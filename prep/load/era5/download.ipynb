{
 "cells": [
  {
   "cell_type": "code",
   "execution_count": 12,
   "id": "9cd8868f",
   "metadata": {},
   "outputs": [],
   "source": [
    "import cdsapi\n",
    "import os.path\n",
    "from datetime import date, timedelta\n",
    "from pathlib import Path\n",
    "import xarray as xr\n",
    "import pandas as pd\n",
    "\n",
    "c = cdsapi.Client()\n",
    "\n",
    "START_YEAR = 2012\n",
    "DELAY_DAYS = 5\n",
    "DATA_FOLDER = Path(\"../../data/era5\")\n",
    "CLIMATE_FOLDER = DATA_FOLDER/\"climate\"\n",
    "\n",
    "RENEW_CURRENT_YEAR = False"
   ]
  },
  {
   "cell_type": "code",
   "execution_count": 2,
   "id": "c1b36048",
   "metadata": {},
   "outputs": [],
   "source": [
    "# this is necessary unfortunately as a query with a period to close to the current day,\n",
    "# will fail with an error message\n",
    "until = date.today() - timedelta(days = DELAY_DAYS)\n",
    "# until"
   ]
  },
  {
   "cell_type": "code",
   "execution_count": 3,
   "id": "eab75bec",
   "metadata": {},
   "outputs": [],
   "source": [
    "if (RENEW_CURRENT_YEAR)\n",
    "    # Remove outdated files\n",
    "    for f in ['last_year.nc', 'last_month.nc']:\n",
    "        current_file = CLIMATE_FOLDER/f\n",
    "        if os.path.exists(current_file):\n",
    "            os.remove(current_file)"
   ]
  },
  {
   "cell_type": "code",
   "execution_count": 4,
   "id": "d732b433",
   "metadata": {},
   "outputs": [],
   "source": [
    "queryBase = {\n",
    "    'dataset': 'reanalysis-era5-single-levels',\n",
    "    'options': {\n",
    "        'product_type': 'reanalysis',\n",
    "        'format': 'netcdf',\n",
    "        'variable': '2m_temperature',\n",
    "        'area': [50, 8, 45, 18], # north, west, south, east\n",
    "        'time': [f\"{hour:02d}:00\" for hour in range(24)],\n",
    "        'day': [f\"{day:02d}\" for day in range(1, (32))],\n",
    "        'month': [f\"{month:02d}\" for month in range(1, 13)],\n",
    "        #'grid': [0.5, 0.5],  # grid in 0.5deg steps in longitude/latitude\n",
    "    },\n",
    "}\n",
    "\n",
    "def download_era5_temperature_years(years, folder):\n",
    "    for year in years:\n",
    "        filename = folder/f'{year}.nc'\n",
    "        if not os.path.exists(filename):\n",
    "            options = {\n",
    "                'year': [str(year)],\n",
    "            }\n",
    "            c.retrieve(queryBase['dataset'], queryBase['options'] | options, filename)\n",
    "\n",
    "def download_era5_temperature_last_year(until, folder):\n",
    "    north, west, south, east = 50.,8, 45, 18\n",
    "    day, month, year = (until.day, until.month, until.year)\n",
    "\n",
    "    filename = folder/'last_year.nc' \n",
    "    if not os.path.exists(filename):\n",
    "        options = {\n",
    "            'month': [f\"{month:02d}\" for month in range(1, month)],\n",
    "            'year': [str(year)],\n",
    "        }\n",
    "        c.retrieve(queryBase['dataset'], queryBase['options'] | options, filename)\n",
    "\n",
    "    filename = folder/'last_month.nc' \n",
    "    if not os.path.exists(filename):\n",
    "        options = {\n",
    "            'day': [f\"{day:02d}\" for day in range(1, day)],\n",
    "            'month': [f\"{month:02d}\"],\n",
    "            'year': [str(year)],\n",
    "        }\n",
    "        c.retrieve(queryBase['dataset'], queryBase['options'] | options, filename)"
   ]
  },
  {
   "cell_type": "code",
   "execution_count": 5,
   "id": "95e9ae39",
   "metadata": {},
   "outputs": [],
   "source": [
    "download_era5_temperature_years(range(START_YEAR, (until.year - 1)), CLIMATE_FOLDER)"
   ]
  },
  {
   "cell_type": "code",
   "execution_count": 6,
   "id": "4bd4a320",
   "metadata": {},
   "outputs": [
    {
     "name": "stdout",
     "output_type": "stream",
     "text": [
      "Downloading until 2022-10-10\n"
     ]
    },
    {
     "name": "stderr",
     "output_type": "stream",
     "text": [
      "2022-10-15 22:41:31,534 INFO Welcome to the CDS\n",
      "2022-10-15 22:41:31,535 INFO Sending request to https://cds.climate.copernicus.eu/api/v2/resources/reanalysis-era5-single-levels\n",
      "2022-10-15 22:41:31,665 INFO Request is queued\n",
      "2022-10-15 22:41:32,724 INFO Request is running\n",
      "2022-10-15 22:47:50,709 INFO Request is completed\n",
      "2022-10-15 22:47:50,710 INFO Downloading https://download-0001-clone.copernicus-climate.eu/cache-compute-0001/cache/data1/adaptor.mars.internal-1665866793.9426174-22374-16-4eb7790e-ba0e-4006-a602-263c96c6132a.nc to ../../data/era5/climate/last_year.nc (21.5M)\n",
      "2022-10-15 22:48:02,004 INFO Download rate 1.9M/s                                                   \n",
      "2022-10-15 22:48:02,139 INFO Welcome to the CDS\n",
      "2022-10-15 22:48:02,139 INFO Sending request to https://cds.climate.copernicus.eu/api/v2/resources/reanalysis-era5-single-levels\n",
      "2022-10-15 22:48:02,309 INFO Downloading https://download-0011-clone.copernicus-climate.eu/cache-compute-0011/cache/data2/adaptor.mars.internal-1665828375.3877358-5224-18-755e2d4e-fad4-4f87-8242-23ff3bef1a97.nc to ../../data/era5/climate/last_month.nc (365.4K)\n",
      "2022-10-15 22:48:02,889 INFO Download rate 630.5K/s                                                 \n"
     ]
    }
   ],
   "source": [
    "print(f'Downloading until {until}')\n",
    "download_era5_temperature_last_year(until, CLIMATE_FOLDER)"
   ]
  },
  {
   "cell_type": "code",
   "execution_count": 45,
   "id": "e5bc3d87",
   "metadata": {},
   "outputs": [],
   "source": [
    "pop = xr.open_dataarray(DATA_FOLDER/'population'/'pop_era5_rel.nc')\n",
    "# POP TO CSV\n",
    "# t = pd.melt(pop.to_pandas(), ignore_index = False)\n",
    "# t.to_csv(DATA_FOLDER/'pop.csv')"
   ]
  },
  {
   "cell_type": "code",
   "execution_count": 46,
   "id": "f83fcbc4",
   "metadata": {},
   "outputs": [],
   "source": [
    "temperature = xr.open_mfdataset(str(CLIMATE_FOLDER/'*.nc'))\n",
    "temperature = temperature.t2m  - 273.15\n",
    "temperature = temperature.resample(time=\"d\").mean()\n",
    "\n",
    "\n",
    "# d.isel(expvar=0)"
   ]
  },
  {
   "cell_type": "code",
   "execution_count": 58,
   "id": "7055e477",
   "metadata": {},
   "outputs": [],
   "source": [
    "temperature.to_dataframe().to_csv(DATA_FOLDER/'temp.csv')"
   ]
  },
  {
   "cell_type": "code",
   "execution_count": null,
   "id": "2baba1ad",
   "metadata": {},
   "outputs": [],
   "source": [
    "# OLD CODE\n",
    "\n",
    "# temperature = xr.open_mfdataset(file)\n",
    "# temperature = temperature.t2m  - 273.15\n",
    "# temperature = temperature.resample(time=\"d\").mean()\n",
    "# temperature = temperature.where(temperature<=12, 20)\n",
    "# temperature = 20 - temperature\n",
    "# temperature = (temperature * pop).sum(['longitude','latitude'])\n",
    "\n",
    "# temperature.to_pandas().max(axis=1).to_csv(\"data/output/heating-degree-days.csv\")"
   ]
  },
  {
   "cell_type": "code",
   "execution_count": null,
   "id": "b05c0a55",
   "metadata": {},
   "outputs": [],
   "source": [
    "?"
   ]
  }
 ],
 "metadata": {
  "kernelspec": {
   "display_name": "Python 3 (ipykernel)",
   "language": "python",
   "name": "python3"
  },
  "language_info": {
   "codemirror_mode": {
    "name": "ipython",
    "version": 3
   },
   "file_extension": ".py",
   "mimetype": "text/x-python",
   "name": "python",
   "nbconvert_exporter": "python",
   "pygments_lexer": "ipython3",
   "version": "3.10.4"
  }
 },
 "nbformat": 4,
 "nbformat_minor": 5
}
