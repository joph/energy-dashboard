{
 "cells": [
  {
   "cell_type": "code",
   "execution_count": 3,
   "id": "9cd8868f",
   "metadata": {},
   "outputs": [],
   "source": [
    "import cdsapi\n",
    "import os\n",
    "from datetime import date, timedelta\n",
    "from pathlib import Path\n",
    "import rootpath\n",
    "\n",
    "ROOT_PATH = Path(rootpath.detect())\n",
    "os.chdir(str(ROOT_PATH))\n",
    "sys.path.append(str(ROOT_PATH))\n",
    "\n",
    "from _shared import getConfig\n",
    "config = getConfig()\n",
    "\n",
    "DATA_FOLDER = ROOT_PATH/config['d']['era5']\n",
    "CLIMATE_FOLDER = DATA_FOLDER/\"climate\"\n",
    "\n",
    "START_YEAR = 2012\n",
    "DELAY_DAYS = 5\n",
    "\n",
    "RENEW_CURRENT_YEAR = False\n",
    "\n",
    "c = cdsapi.Client()"
   ]
  },
  {
   "cell_type": "code",
   "execution_count": 4,
   "id": "c1b36048",
   "metadata": {},
   "outputs": [],
   "source": [
    "# this is necessary unfortunately as a query with a period to close to the current day,\n",
    "# will fail with an error message\n",
    "until = date.today() - timedelta(days = DELAY_DAYS)\n",
    "# until"
   ]
  },
  {
   "cell_type": "code",
   "execution_count": 6,
   "id": "eab75bec",
   "metadata": {},
   "outputs": [],
   "source": [
    "if (RENEW_CURRENT_YEAR):\n",
    "    # Remove outdated files\n",
    "    for f in ['last_year.nc', 'last_month.nc']:\n",
    "        current_file = CLIMATE_FOLDER/f\n",
    "        if os.path.exists(current_file):\n",
    "            os.remove(current_file)"
   ]
  },
  {
   "cell_type": "code",
   "execution_count": 7,
   "id": "d732b433",
   "metadata": {},
   "outputs": [],
   "source": [
    "queryBase = {\n",
    "    'dataset': 'reanalysis-era5-single-levels',\n",
    "    'options': {\n",
    "        'product_type': 'reanalysis',\n",
    "        'format': 'netcdf',\n",
    "        'variable': '2m_temperature',\n",
    "        'area': [50, 8, 45, 18], # north, west, south, east\n",
    "        'time': [f\"{hour:02d}:00\" for hour in range(24)],\n",
    "        'day': [f\"{day:02d}\" for day in range(1, (32))],\n",
    "        'month': [f\"{month:02d}\" for month in range(1, 13)],\n",
    "        #'grid': [0.5, 0.5],  # grid in 0.5deg steps in longitude/latitude\n",
    "    },\n",
    "}\n",
    "\n",
    "def download_era5_temperature_years(years, folder):\n",
    "    for year in years:\n",
    "        filename = folder/f'{year}.nc'\n",
    "        if not os.path.exists(filename):\n",
    "            options = {\n",
    "                'year': [str(year)],\n",
    "            }\n",
    "            c.retrieve(queryBase['dataset'], queryBase['options'] | options, filename)\n",
    "\n",
    "def download_era5_temperature_last_year(until, folder):\n",
    "    north, west, south, east = 50.,8, 45, 18\n",
    "    day, month, year = (until.day, until.month, until.year)\n",
    "\n",
    "    filename = folder/'last_year.nc' \n",
    "    if not os.path.exists(filename):\n",
    "        options = {\n",
    "            'month': [f\"{month:02d}\" for month in range(1, month)],\n",
    "            'year': [str(year)],\n",
    "        }\n",
    "        c.retrieve(queryBase['dataset'], queryBase['options'] | options, filename)\n",
    "\n",
    "    filename = folder/'last_month.nc' \n",
    "    if not os.path.exists(filename):\n",
    "        options = {\n",
    "            'day': [f\"{day:02d}\" for day in range(1, day)],\n",
    "            'month': [f\"{month:02d}\"],\n",
    "            'year': [str(year)],\n",
    "        }\n",
    "        c.retrieve(queryBase['dataset'], queryBase['options'] | options, filename)"
   ]
  },
  {
   "cell_type": "code",
   "execution_count": 8,
   "id": "95e9ae39",
   "metadata": {},
   "outputs": [
    {
     "name": "stdout",
     "output_type": "stream",
     "text": [
      "Downloading until 2022-10-14\n"
     ]
    },
    {
     "name": "stderr",
     "output_type": "stream",
     "text": [
      "2022-10-19 18:10:02,372 INFO Welcome to the CDS\n",
      "2022-10-19 18:10:02,373 INFO Sending request to https://cds.climate.copernicus.eu/api/v2/resources/reanalysis-era5-single-levels\n",
      "2022-10-19 18:10:02,581 INFO Request is completed\n",
      "2022-10-19 18:10:02,582 INFO Downloading https://download-0008-clone.copernicus-climate.eu/cache-compute-0008/cache/data8/adaptor.mars.internal-1666184335.4014027-27094-17-f3f0d69b-36ee-4da2-a605-7ec33aa70989.nc to /home/peter/Projects/energy/prep/data/era5/climate/last_year.nc (21.5M)\n",
      "2022-10-19 18:10:17,520 INFO Download rate 1.4M/s                                                            \n",
      "2022-10-19 18:10:17,585 INFO Welcome to the CDS\n",
      "2022-10-19 18:10:17,586 INFO Sending request to https://cds.climate.copernicus.eu/api/v2/resources/reanalysis-era5-single-levels\n",
      "2022-10-19 18:10:17,876 INFO Downloading https://download-0018.copernicus-climate.eu/cache-compute-0018/cache/data5/adaptor.mars.internal-1666184385.5168219-2408-7-b6f14e50-35e7-4780-b897-b74377bd4ea2.nc to /home/peter/Projects/energy/prep/data/era5/climate/last_month.nc (527.2K)\n",
      "2022-10-19 18:10:18,438 INFO Download rate 939.5K/s                                                          \n"
     ]
    }
   ],
   "source": [
    "download_era5_temperature_years(range(START_YEAR, (until.year - 1)), CLIMATE_FOLDER)\n",
    "print(f'Downloading until {until}')\n",
    "download_era5_temperature_last_year(until, CLIMATE_FOLDER)"
   ]
  }
 ],
 "metadata": {
  "kernelspec": {
   "display_name": "Python 3 (ipykernel)",
   "language": "python",
   "name": "python3"
  },
  "language_info": {
   "codemirror_mode": {
    "name": "ipython",
    "version": 3
   },
   "file_extension": ".py",
   "mimetype": "text/x-python",
   "name": "python",
   "nbconvert_exporter": "python",
   "pygments_lexer": "ipython3",
   "version": "3.10.4"
  }
 },
 "nbformat": 4,
 "nbformat_minor": 5
}
