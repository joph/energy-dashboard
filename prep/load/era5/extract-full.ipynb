{
 "cells": [
  {
   "cell_type": "code",
   "execution_count": 5,
   "id": "9cd8868f",
   "metadata": {},
   "outputs": [],
   "source": [
    "import os, sys\n",
    "from pathlib import Path\n",
    "import xarray as xr\n",
    "import rootpath\n",
    "\n",
    "ROOT_PATH = Path(rootpath.detect())\n",
    "os.chdir(str(ROOT_PATH))\n",
    "sys.path.append(str(ROOT_PATH))\n",
    "\n",
    "from _shared import getConfig\n",
    "config = getConfig()\n",
    "\n",
    "DATA_FOLDER = ROOT_PATH/config['d']['era5']\n",
    "CLIMATE_FOLDER = DATA_FOLDER/\"climate\"\n",
    "POPULATION_FOLDER = DATA_FOLDER/\"population\""
   ]
  },
  {
   "cell_type": "code",
   "execution_count": 6,
   "id": "e5bc3d87",
   "metadata": {},
   "outputs": [],
   "source": [
    "pop = xr.open_dataarray(POPULATION_FOLDER/'pop_era5_rel.nc')\n",
    "# POP TO CSV\n",
    "t = pd.melt(pop.to_pandas(), ignore_index = False)\n",
    "t.to_csv(DATA_FOLDER/'pop.csv')"
   ]
  },
  {
   "cell_type": "code",
   "execution_count": 7,
   "id": "f83fcbc4",
   "metadata": {},
   "outputs": [],
   "source": [
    "temperature = xr.open_mfdataset(str(CLIMATE_FOLDER/'*.nc'))\n",
    "temperature = temperature.t2m  - 273.15\n",
    "temperature = temperature.resample(time=\"d\").mean()\n",
    "temperature.to_dataframe().to_csv(DATA_FOLDER/'temp.csv')"
   ]
  },
  {
   "cell_type": "code",
   "execution_count": null,
   "id": "3694cacd",
   "metadata": {},
   "outputs": [],
   "source": []
  }
 ],
 "metadata": {
  "kernelspec": {
   "display_name": "Python 3 (ipykernel)",
   "language": "python",
   "name": "python3"
  },
  "language_info": {
   "codemirror_mode": {
    "name": "ipython",
    "version": 3
   },
   "file_extension": ".py",
   "mimetype": "text/x-python",
   "name": "python",
   "nbconvert_exporter": "python",
   "pygments_lexer": "ipython3",
   "version": "3.10.4"
  }
 },
 "nbformat": 4,
 "nbformat_minor": 5
}
