{
 "cells": [
  {
   "cell_type": "code",
   "execution_count": null,
   "id": "466ba780",
   "metadata": {},
   "outputs": [],
   "source": [
    "import json\n",
    "\n",
    "responseLineFile = \"../data/output/gas-price-new.txt\"\n",
    "outputFile = \"../data/output/gas-price-new.json\""
   ]
  },
  {
   "cell_type": "code",
   "execution_count": null,
   "id": "6b4ba59d",
   "metadata": {},
   "outputs": [],
   "source": [
    "with open(responseLineFile, 'r') as f:\n",
    "    rawline = f.readlines()[0]\n",
    "rawline = rawline[10:-3]\n",
    "rawline"
   ]
  },
  {
   "cell_type": "code",
   "execution_count": null,
   "id": "455095ca",
   "metadata": {},
   "outputs": [],
   "source": [
    "jsonline = rawline.replace(\"\\\\\\\"\", \"\\\"\")\n",
    "jsonline = jsonline.replace(\"\\\\\\\\\\\"\", \"\\\\\\\"\")\n",
    "jsonline"
   ]
  },
  {
   "cell_type": "code",
   "execution_count": null,
   "id": "78b88ff0",
   "metadata": {},
   "outputs": [],
   "source": [
    "j = json.loads(jsonline)\n",
    "series = j['values']['ChartPlot']['x']['hc_opts']['series']\n",
    "series"
   ]
  },
  {
   "cell_type": "code",
   "execution_count": null,
   "id": "d45cae29",
   "metadata": {},
   "outputs": [],
   "source": [
    "with open(outputFile, 'w') as f:\n",
    "    json.dump(series, f)"
   ]
  }
 ],
 "metadata": {
  "kernelspec": {
   "display_name": "Python 3 (ipykernel)",
   "language": "python",
   "name": "python3"
  },
  "language_info": {
   "codemirror_mode": {
    "name": "ipython",
    "version": 3
   },
   "file_extension": ".py",
   "mimetype": "text/x-python",
   "name": "python",
   "nbconvert_exporter": "python",
   "pygments_lexer": "ipython3",
   "version": "3.10.4"
  }
 },
 "nbformat": 4,
 "nbformat_minor": 5
}
